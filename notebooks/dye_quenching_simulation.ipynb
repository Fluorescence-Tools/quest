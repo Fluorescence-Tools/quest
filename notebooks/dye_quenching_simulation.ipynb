{
 "worksheets": [
  {
   "cells": [
    {
     "cell_type": "code",
     "metadata": {},
     "outputs": [],
     "input": [
      "cd \\\\psf\\Home\\Documents\\ChiSurf\\devel"
     ],
     "language": "python"
    },
    {
     "cell_type": "heading",
     "metadata": {},
     "level": 2,
     "source": [
      "Imports"
     ]
    },
    {
     "cell_type": "code",
     "metadata": {},
     "outputs": [],
     "input": [
      "import mfm\n",
      "from mfm.fluorescence.fps.dynamic import Sticking, Dye, ProteinQuenching, DiffusionSimulationParameter, \\\n",
      "    DiffusionSimulation\n",
      "from mfm.fluorescence.simulation.dye_diffusion import DyeDecay, DecaySimulationParameter, FRETDecay\n",
      "from mfm.fitting.models.tcspc.tcspc import FretParameter\n",
      "\n",
      "import pylab as p\n",
      "%matplotlib inline"
     ],
     "language": "python",
     "prompt_number": 6
    },
    {
     "cell_type": "heading",
     "metadata": {},
     "level": 1,
     "source": [
      "Dye-quenching"
     ]
    },
    {
     "cell_type": "heading",
     "metadata": {},
     "level": 2,
     "source": [
      "Generate a new structure"
     ]
    },
    {
     "cell_type": "code",
     "metadata": {},
     "outputs": [],
     "input": [
      "pdb_file = '../sample_data/model/hgbp1/hGBP1_closed.pdb'\n",
      "structure = mfm.Structure(pdb_file)"
     ],
     "language": "python",
     "prompt_number": 7
    },
    {
     "cell_type": "heading",
     "metadata": {},
     "level": 2,
     "source": [
      "Define the simulation parameters"
     ]
    },
    {
     "cell_type": "markdown",
     "metadata": {},
     "source": [
      "First the quenching and sticking of the dye to the protein surface has to be defined. \n",
      "\n",
      "To define a new dye the sticking has to be defined. The dye objects contains information about the spatial distribution of the dye, photophysical properties and dynamical properties. The spatial distribution of the dye is determined by the structure of the protein, the diffusion coefficent of the dye and the sticking of the dye to the molecular surface. The photophysical properties are determined by the lifetime of the dye and the critical distance: the distance below the dye is quenched if it is in proximity to a amino-acid which is considered as a quenching amino-acid.\n",
      "The critical distance as well as the radius of the dye have to be balanced. Otherwise no quenching will occur as the dye and the quencher will never be in contact. Thus, I use usually radii of the dye which are below our usual radii or I suggest using the 3-AV mode (which is currently not implemented)."
     ]
    },
    {
     "cell_type": "code",
     "metadata": {},
     "outputs": [],
     "input": [
      "quenching = ProteinQuenching(structure,\n",
      "                             all_atoms_quench=True,\n",
      "                             quench_scale=0.5,\n",
      "                             verbose=False)\n",
      "sticking = Sticking(structure, quenching,\n",
      "                    sticky_mode='surface',\n",
      "                    slow_radius=8.5,\n",
      "                    slow_fact=0.6,\n",
      "                    verbose=False)\n",
      "\n",
      "dye = Dye(sticking,\n",
      "          attachment_residue=344,\n",
      "          attachment_atom='CB',\n",
      "          critical_distance=5.1,\n",
      "          diffusion_coefficient=23.0,\n",
      "          av_radius=2.0,\n",
      "          verbose=False)"
     ],
     "language": "python",
     "prompt_number": 4
    },
    {
     "cell_type": "markdown",
     "metadata": {},
     "source": [
      "Before a diffusion simulation of the dye is performed. The parameters of the simulation have to be determined. Mainly this is the maximum simulation time t_max and the time-step of the simulation. \n",
      "\n",
      "\n",
      "The diffusion simulation also determines at what time-step of the simulation the dye is considered as quenched. Thus, the simulation requires the dye-definition, the quenching definition and the simulation parameters. After creation of the diffusion simulation object the simultion is not performed imideatelly. The user has to update the simlation by calling the update method."
     ]
    },
    {
     "cell_type": "code",
     "metadata": {},
     "outputs": [],
     "input": [
      "simulation_parameter = DiffusionSimulationParameter(t_max=500,\n",
      "                                                    t_step=0.032)\n",
      "diffusion_donor = DiffusionSimulation(dye,\n",
      "                                      quenching,\n",
      "                                      simulation_parameter,\n",
      "                                      verbose=False)\n",
      "diffusion_donor.update()"
     ],
     "language": "python",
     "prompt_number": 5
    },
    {
     "cell_type": "markdown",
     "metadata": {},
     "source": [
      "After a diffusion simulation was created the diffusion simlation can be used to generate decays. Here different modes are possible. To perform a simulation of a fluorescnece intensity decay the user has to define the simulation parameters of the decay. This is done by generating a new 'DecaySimulationParameter' object. Either the decay is obtained by simulating a Poissonian process and ontaining a photon-stream which is later-on binned into a TAC-histogram or by simulation the TAC-histogram directelly."
     ]
    },
    {
     "cell_type": "code",
     "metadata": {},
     "outputs": [],
     "input": [
      "decay_parameter_curve = DecaySimulationParameter(decay_mode='curve',\n",
      "                                           n_curves=10000,\n",
      "                                           dt_tac=0.016,\n",
      "                                           n_tac=4096)\n",
      "decay_parameter_photons = DecaySimulationParameter(decay_mode='photon',\n",
      "                                           n_photons=24e6,\n",
      "                                           tac_range=(0, 50),\n",
      "                                           dt_tac=0.016)"
     ],
     "language": "python",
     "prompt_number": 6
    },
    {
     "cell_type": "code",
     "metadata": {},
     "outputs": [],
     "input": [
      "fd0_sim_curve = DyeDecay(decay_parameter_curve, diffusion_donor)\n",
      "fd0_sim_curve.update()\n",
      "x_curve_donor, y_curve_donor = fd0_sim_curve.get_histogram(normalize=True, normalization_type='max')\n",
      "\n",
      "fd0_sim_photons = DyeDecay(decay_parameter_photons, diffusion_donor)\n",
      "fd0_sim_photons.update()\n",
      "x_photon_donor, y_photon_donor = fd0_sim_photons.get_histogram(normalize=True, normalization_type='max')"
     ],
     "language": "python"
    },
    {
     "cell_type": "code",
     "metadata": {},
     "outputs": [
      {
       "output_type": "pyout",
       "prompt_number": 8,
       "text": [
        "[<matplotlib.lines.Line2D at 0x116feaf0>]"
       ],
       "metadata": {}
      },
      {
       "output_type": "display_data",
       "png": "[encoded data removed]",
       "text": [
        "<matplotlib.figure.Figure at 0x11abe090>"
       ],
       "metadata": {}
      }
     ],
     "input": [
      "p.semilogy(x_curve_donor, y_curve_donor + 0.0001)\n",
      "p.semilogy(x_photon_donor, y_photon_donor + 0.0001)"
     ],
     "language": "python",
     "prompt_number": 8
    },
    {
     "cell_type": "heading",
     "metadata": {},
     "level": 2,
     "source": [
      "FRET-decay"
     ]
    },
    {
     "cell_type": "markdown",
     "metadata": {},
     "source": [
      "To calculate a FRET-decay first the parameters determining the FRET-rate have to be defined. This is done using a 'FRETParameter' object. The parameters are the lifetime of the donor-dye (tau0), the F?rster-radius (forster_radius) and the orientation factor of the donor and the acceptor dye (kappa2). \n",
      "\n",
      "TODO\n",
      "\n",
      "The orientation factor in diffusion simulations with more the one one atom is not uses. In case of a more complex dye the definition of the dipole-moment of the two dyes is used to calculate the orientation factor."
     ]
    },
    {
     "cell_type": "code",
     "metadata": {},
     "outputs": [],
     "input": [
      "fret_parameter = FretParameter(tau0=4.0,\n",
      "                               forster_radius=52.0,\n",
      "                               kappa2=0.67)\n",
      "decay_parameter = DecaySimulationParameter(decay_mode='curve',\n",
      "                                           n_curves=10000,\n",
      "                                           n_photons=0.5e6,\n",
      "                                           dt_tac=0.016,\n",
      "                                           n_tac=4096)"
     ],
     "language": "python",
     "prompt_number": 9
    },
    {
     "cell_type": "heading",
     "metadata": {},
     "level": 3,
     "source": [
      "Donor-definition"
     ]
    },
    {
     "cell_type": "code",
     "metadata": {},
     "outputs": [],
     "input": [
      "quenching = ProteinQuenching(structure,\n",
      "                             all_atoms_quench=True,\n",
      "                             quench_scale=0.5,\n",
      "                             verbose=False)\n",
      "sticking = Sticking(structure, quenching,\n",
      "                    sticky_mode='surface',\n",
      "                    slow_radius=8.5,\n",
      "                    slow_fact=0.6,\n",
      "                    verbose=False)\n",
      "dye = Dye(sticking,\n",
      "          attachment_residue=254,\n",
      "          attachment_atom='CB',\n",
      "          critical_distance=5.1,\n",
      "          diffusion_coefficient=23.0,\n",
      "          av_radius=2.0,\n",
      "          verbose=False)\n",
      "simulation_parameter = DiffusionSimulationParameter(t_max=500,\n",
      "                                                    t_step=0.032)\n",
      "diffusion_donor = DiffusionSimulation(dye,\n",
      "                                      quenching,\n",
      "                                      simulation_parameter,\n",
      "                                      verbose=False)\n",
      "diffusion_donor.update()"
     ],
     "language": "python",
     "prompt_number": 15
    },
    {
     "cell_type": "heading",
     "metadata": {},
     "level": 3,
     "source": [
      "Acceptor-definition"
     ]
    },
    {
     "cell_type": "code",
     "metadata": {},
     "outputs": [],
     "input": [
      "quenching = ProteinQuenching(structure,\n",
      "                             all_atoms_quench=True,\n",
      "                             quench_scale=0.5,\n",
      "                             verbose=True)\n",
      "sticking = Sticking(structure, quenching,\n",
      "                    sticky_mode='surface',\n",
      "                    slow_radius=8.5,\n",
      "                    slow_fact=0.6,\n",
      "                    verbose=False)\n",
      "dye = Dye(sticking,\n",
      "          attachment_residue=577,\n",
      "          attachment_atom='CB',\n",
      "          critical_distance=5.1,\n",
      "          diffusion_coefficient=23.0,\n",
      "          av_radius=2.0,\n",
      "          verbose=False)\n",
      "diffusion_acceptor = DiffusionSimulation(dye,\n",
      "                                         quenching,\n",
      "                                         simulation_parameter,\n",
      "                                         verbose=False)\n",
      "diffusion_acceptor.update()"
     ],
     "language": "python",
     "prompt_number": 16
    },
    {
     "cell_type": "heading",
     "metadata": {},
     "level": 3,
     "source": [
      "FRET-decay"
     ]
    },
    {
     "cell_type": "code",
     "metadata": {},
     "outputs": [],
     "input": [
      "decay_parameter_curve = DecaySimulationParameter(decay_mode='curve',\n",
      "                                           n_curves=10000,\n",
      "                                           dt_tac=0.016,\n",
      "                                           n_tac=4096)\n",
      "fret_sim = FRETDecay(diffusion_donor, diffusion_acceptor,\n",
      "                     fret_parameter, decay_parameter)\n",
      "fret_sim.update()"
     ],
     "language": "python"
    },
    {
     "cell_type": "heading",
     "metadata": {},
     "level": 3,
     "source": [
      "Donor-decay"
     ]
    },
    {
     "cell_type": "code",
     "metadata": {},
     "outputs": [],
     "input": [
      "fd0_sim_curve = DyeDecay(decay_parameter, diffusion_donor)\n",
      "fd0_sim_curve.update()"
     ],
     "language": "python",
     "prompt_number": 18
    },
    {
     "cell_type": "heading",
     "metadata": {},
     "level": 3,
     "source": [
      "Plot FRET-decay"
     ]
    },
    {
     "cell_type": "code",
     "metadata": {},
     "outputs": [
      {
       "output_type": "display_data",
       "png": "[encoded data removed]",
       "text": [
        "<matplotlib.figure.Figure at 0x118384d0>"
       ],
       "metadata": {}
      }
     ],
     "input": [
      "x_curve_donor, y_curve_donor = fd0_sim_curve.get_histogram(normalize=True, normalization_type='max')\n",
      "p.semilogy(x_curve_donor, y_curve_donor + 0.0001)\n",
      "\n",
      "x_fret, y_fret = fret_sim.get_histogram(normalize=True, normalization_type='max')\n",
      "p.semilogy(x_fret, y_fret + 0.0001)\n",
      "\n",
      "p.show()"
     ],
     "language": "python",
     "prompt_number": 19
    },
    {
     "cell_type": "code",
     "metadata": {},
     "outputs": [],
     "input": [
      "time_axis = diffusion_donor.time"
     ],
     "language": "python"
    }
   ]
  }
 ],
 "cells": [],
 "metadata": {
  "name": "",
  "signature": "sha256:15778fa989b61ef4b80ce19064d28f7f8c26ad20a901335c3bced9d452de86c5"
 },
 "nbformat": 3,
 "nbformat_minor": 0
}