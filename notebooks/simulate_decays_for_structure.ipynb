{
 "cells": [
  {
   "cell_type": "code",
   "execution_count": 1,
   "metadata": {
    "collapsed": false
   },
   "outputs": [
    {
     "name": "stdout",
     "output_type": "stream",
     "text": [
      "C:\\atlastin\n"
     ]
    }
   ],
   "source": [
    "cd C:\\atlastin"
   ]
  },
  {
   "cell_type": "code",
   "execution_count": 2,
   "metadata": {
    "collapsed": true
   },
   "outputs": [],
   "source": [
    "%matplotlib inline"
   ]
  },
  {
   "cell_type": "code",
   "execution_count": 3,
   "metadata": {
    "collapsed": false
   },
   "outputs": [],
   "source": [
    "from collections import OrderedDict\n",
    "import mfm\n",
    "from mfm.fluorescence.fps.dynamic import Sticking, Dye, ProteinQuenching, DiffusionSimulationParameter, \\\n",
    "    DiffusionSimulation\n",
    "from mfm.fluorescence.simulation.dye_diffusion import DyeDecay, DecaySimulationParameter, FRETDecay\n",
    "from mfm.fitting.models.tcspc.tcspc import FretParameter\n",
    "from mfm.fitting.optimization import solve_nnls\n",
    "import numpy as np\n",
    "import itertools\n",
    "import os\n",
    "mfm.verbose = False\n",
    "\n",
    "\n",
    "def simulate_fret_decays(donors, acceptors, decay_parameter, \n",
    "                         simulation_parameter, donor_quenching, acceptor_quenching,\n",
    "                         fret_parameter, save=True, directory=\"./\", \n",
    "                         dye_combinations=None, donor_decays=None):\n",
    "    donor_keys = donors.keys()\n",
    "    acceptor_keys = acceptors.keys()\n",
    "    fret_decays = list()\n",
    "    \n",
    "    distances = list()\n",
    "    eff  = list()\n",
    "    if dye_combinations is None:\n",
    "        dye_combinations = itertools.product(donor_keys, acceptor_keys)\n",
    "        \n",
    "    for donor_key, acceptor_key in dye_combinations:\n",
    "        print \"Simulating: %sD-%sA\" % (donor_key, acceptor_key)\n",
    "        fn = directory+file_prefix+\"_FRET-%sD-%sA_\" % (donor_key, acceptor_key)\n",
    "\n",
    "        donor = donors[donor_key]\n",
    "        acceptor = acceptors[acceptor_key]\n",
    "\n",
    "        donor_diffusion_simulation = DiffusionSimulation(donor,\n",
    "                                                         donor_quenching,\n",
    "                                                         simulation_parameter)\n",
    "        donor_diffusion_simulation.update()\n",
    "\n",
    "        acceptor_diffusion_simulation = DiffusionSimulation(acceptor,\n",
    "                                                            acceptor_quenching,\n",
    "                                                            simulation_parameter)\n",
    "        acceptor_diffusion_simulation.update()\n",
    "        if save:\n",
    "            donor_diffusion_simulation.save(filename=fn+\"_D_diff.xyz\", mode='xyz', skip=10)\n",
    "            acceptor_diffusion_simulation.save(filename=fn+\"_A_diff.xyz\", mode='xyz', skip=10)\n",
    "\n",
    "        fret_sim = FRETDecay(donor_diffusion_simulation, acceptor_diffusion_simulation,\n",
    "                             fret_parameter, decay_parameter)\n",
    "        fret_sim.update()\n",
    "        decay = fret_sim.get_histogram()\n",
    "        decay = np.vstack(decay)\n",
    "        if save:\n",
    "            np.savetxt(fn + \"-dRDA.txt\" , fret_sim.dRDA.T)\n",
    "            #np.savetxt(fn +\"-decay.txt\" , decay.T, fmt=\"%i\", delimiter=\"\\t\")\n",
    "        fret_decays.append(decay)\n",
    "        distances.append(np.histogram(fret_sim.dRDA, bins=np.linspace(0, 150, 150), density=True))\n",
    "        donor_decay = donor_decays[donor_key][1]\n",
    "        print donor_decay\n",
    "        #print sum(donor_decay)\n",
    "        eff.append( 1. - sum(decay[1])/sum(donor_decay))\n",
    "    return fret_decays, distances, eff\n",
    "\n",
    "\n",
    "def simulate_decays(dyes, decay_parameter, simulation_parameter, quenching_parameter, save_decays=False,\n",
    "                    directory=\"./\"):\n",
    "    dye_decays = OrderedDict()\n",
    "    quantum_yields = list()\n",
    "    for dye_key in dyes:\n",
    "        \n",
    "        dye = dyes[dye_key]\n",
    "        diffusion_simulation = DiffusionSimulation(dye,\n",
    "                                                   quenching_parameter,\n",
    "                                                   simulation_parameter)\n",
    "        try:\n",
    "            diffusion_simulation.update()\n",
    "            #diffusion_simulation.save('%sD_diffusion.xyz' % dye_key, mode='xyz', skip=5)\n",
    "            av = diffusion_simulation.av\n",
    "            #av.save('%sD' % dye_key)\n",
    "\n",
    "            fd0_sim_curve = DyeDecay(decay_parameter, diffusion_simulation)\n",
    "            fd0_sim_curve.update()\n",
    "            decay = fd0_sim_curve.get_histogram()\n",
    "            qy = fd0_sim_curve.quantum_yield\n",
    "            print \"%s\\t%s\" % (dye_key, qy)\n",
    "            filename = \"Donor-%s.txt\" % dye_key\n",
    "            decay = np.vstack(decay)\n",
    "            if save_decays:\n",
    "                np.savetxt(directory+filename, decay.T, fmt=\"%i\", delimiter=\"\\t\")\n",
    "        except ValueError:\n",
    "            decay = np.ones(10)\n",
    "        \n",
    "        dye_decays[dye_key] = decay\n",
    "        quantum_yields.append(qy)\n",
    "        \n",
    "    return quantum_yields, dye_decays"
   ]
  },
  {
   "cell_type": "markdown",
   "metadata": {},
   "source": [
    "# Simulation parameters"
   ]
  },
  {
   "cell_type": "markdown",
   "metadata": {},
   "source": [
    "There are two PDBs of hGBP1. Both PDBs are coarse grained models of hGBP1. In the coarse model the sidechains are stripped. Instead of the stripped sidechain are pseudo atom was placed at the center of mass of the side-chain. The program identifies the type of the sidechain by the name of the amino-acid. In one PDB the names of the natural amino-acids were used. In the second PDB the names of the natural quenchers (TYR, TRP, HIS, MET) were replaced by ALA.\n",
    "\n",
    "Given the PDB-files now a new structure object is generated and the simulation parameters are set."
   ]
  },
  {
   "cell_type": "markdown",
   "metadata": {},
   "source": [
    "Input\n",
    "-----\n"
   ]
  },
  {
   "cell_type": "code",
   "execution_count": 4,
   "metadata": {
    "collapsed": false
   },
   "outputs": [],
   "source": [
    "pdb_file = './crystal/4idn_fixed.pdb' # C2\n",
    "#pdb_file = './crystal/3q5d_fixed.pdb' # C1\n",
    "#pdb_file = './crystal/3q5e_fixed.pdb' # C3\n",
    "file_prefix = 'C2_'\n",
    "directory = './tmp/'# This directory is used for saving\n",
    "\n",
    "diffusion_coefficient_donor = 7.5     # A2/ns\n",
    "diffusion_coefficient_acceptor = 4.0  # A2/ns\n",
    "r_qd_quench = 3.0 + 5.5 # Distance below the Donor is quenched\n",
    "\n",
    "rs = [0.2, 0.3, 0.38-0.2, 20] # sum should amplitudes should be 0.38 (0.4) anisotropy spectrum, amplitude, rotational time (interleaved) b1, rho1, b2, rho2, ....\n",
    "acs = [1.0, 1.5] # This is the lifetime spectrum of the acceptor (interleaved)\n",
    "\n",
    "# Residue numbers for the attachment of the dyes\n",
    "donor_labeling_positions = list(set([176, 401, 301, 393, 301, 339, 13, 401, 176, 339, 305, 401, 10, 339, 289, 339, 301, 382, 13, 397]))\n",
    "acceptor_labeling_positions = list(set([176, 401, 301, 393, 301, 339, 13, 401, 176, 339, 305, 401, 10, 339, 289, 339, 301, 382, 13, 397]))\n",
    "\n",
    "# These are the FRET-pairs which are going to be simulated (first position D, second A)\n",
    "dye_combinations = [\n",
    "    [176, 401], [301, 393], [301, 339], [13, 401], [176, 339], [305, 401], [10, 339], [289, 339], [301, 382], [13, 397],\n",
    "    [401, 176], [393, 301], [339, 301], [401, 13], [339, 176], [401, 305], [339, 10], [339, 289], [382, 301], [397, 13]\n",
    "]\n",
    "\n",
    "dye_combinations = [\n",
    "    [13, 401],\n",
    "    [401, 13]\n",
    "]\n"
   ]
  },
  {
   "cell_type": "code",
   "execution_count": 5,
   "metadata": {
    "collapsed": true
   },
   "outputs": [],
   "source": [
    "structure = mfm.Structure(pdb_file)\n",
    "tau0 = 4.1\n",
    "forster_radius = 52.0\n",
    "kappa2 = 0.667\n",
    "\n",
    "fret_parameter = FretParameter(tau0=tau0,\n",
    "                               forster_radius=forster_radius,\n",
    "                               kappa2=kappa2)"
   ]
  },
  {
   "cell_type": "markdown",
   "metadata": {},
   "source": [
    "## Donor"
   ]
  },
  {
   "cell_type": "code",
   "execution_count": 6,
   "metadata": {
    "collapsed": false
   },
   "outputs": [],
   "source": [
    "donor_chains = [' ']*len(donor_labeling_positions)\n",
    "\n",
    "donor_quenching = ProteinQuenching(structure,\n",
    "                                   all_atoms_quench=False,\n",
    "                                   quench_scale=1.0,\n",
    ")\n",
    "\n",
    "donor_sticking = Sticking(structure, donor_quenching,\n",
    "                          sticky_mode='surface',\n",
    "                          slow_radius=8.5,\n",
    "                          slow_fact=0.1)  # Stas-paper Dye-MD (roughly 10%)\n",
    "\n",
    "donor_dyes = dict(\n",
    "    [\n",
    "        (pos,\n",
    "         Dye(donor_sticking,\n",
    "             attachment_residue=pos,\n",
    "             attachment_chain=chain,\n",
    "             attachment_atom='CB',\n",
    "             critical_distance=r_qd_quench,  # 3.0 Ang von AV + 6.0 Ang only C-beta quench (so far best 5.0 + 3.0)\n",
    "             diffusion_coefficient=diffusion_coefficient_donor,  # Stas-paper (Dye-MD 30 A2/ns)\n",
    "             av_radius=3.0,\n",
    "             av_width=2.5,\n",
    "             av_length=21.5,  # 20 + 5 = 3.5 + 21.5\n",
    "             tau0=4.2)\n",
    "        )\n",
    "        for pos, chain in zip(donor_labeling_positions, donor_chains)\n",
    "    ]\n",
    ")"
   ]
  },
  {
   "cell_type": "markdown",
   "metadata": {},
   "source": [
    "## Acceptor"
   ]
  },
  {
   "cell_type": "code",
   "execution_count": 7,
   "metadata": {
    "collapsed": true
   },
   "outputs": [],
   "source": [
    "#acceptor_labeling_positions = [18, 254, 577 , 344, 481, 496, 525, 540, 577]\n",
    "\n",
    "acceptor_chains = [' ']*len(donor_labeling_positions)\n",
    "acceptor_quenching = ProteinQuenching(structure,\n",
    "                                      all_atoms_quench=False,\n",
    "                                      quench_scale=0.8)\n",
    "\n",
    "acceptor_sticking = Sticking(structure, acceptor_quenching,\n",
    "                             sticky_mode='surface',\n",
    "                             slow_radius=8.5,\n",
    "                             slow_fact=0.1)  # Stas-paper Dye-MD (roughly 10%)\n",
    "acceptor_quenching = ProteinQuenching(structure,\n",
    "                                      all_atoms_quench=False,\n",
    "                                      quench_scale=0.8)\n",
    "acceptor_dyes = dict(\n",
    "    [\n",
    "        (pos,\n",
    "         Dye(donor_sticking,\n",
    "             attachment_residue=pos,\n",
    "             attachment_chain=chain,\n",
    "             attachment_atom='CB',\n",
    "             critical_distance=0.0,      # The acceptor dye does not have to be quenched setting this to zero speeds up calulation\n",
    "             diffusion_coefficient=diffusion_coefficient_acceptor,\n",
    "             av_radius=3.5,\n",
    "             av_width=2.5,\n",
    "             tau0=1.0)\n",
    "        )\n",
    "        for pos, chain in zip(acceptor_labeling_positions, acceptor_chains)\n",
    "    ]\n",
    ")"
   ]
  },
  {
   "cell_type": "markdown",
   "metadata": {},
   "source": [
    "# Simulation"
   ]
  },
  {
   "cell_type": "markdown",
   "metadata": {},
   "source": [
    "## Donor-decay"
   ]
  },
  {
   "cell_type": "markdown",
   "metadata": {},
   "source": [
    "Now the simulation parameters are set."
   ]
  },
  {
   "cell_type": "code",
   "execution_count": null,
   "metadata": {
    "collapsed": true
   },
   "outputs": [],
   "source": [
    "simulation_parameter = DiffusionSimulationParameter(t_max=30000,\n",
    "                                                    t_step=0.016)\n",
    "decay_parameter = DecaySimulationParameter(decay_mode='photon', #curve or photon\n",
    "                                           n_photons=20.0e6,\n",
    "                                           n_curves=250000,\n",
    "                                           tac_range=(0, 16.666624 + 0.004069),\n",
    "                                           dt_tac=0.004069)"
   ]
  },
  {
   "cell_type": "code",
   "execution_count": null,
   "metadata": {
    "collapsed": false
   },
   "outputs": [
    {
     "name": "stdout",
     "output_type": "stream",
     "text": [
      "289\t0.945020413509\n",
      "401\t0.868100716598\n",
      "393\t0.937943723771\n",
      "10\t0.979737843729\n",
      "301\t0.934255643574\n",
      "13\t0.860857583413\n",
      "176\t0.816218850376\n",
      "305\t0.90661802463\n"
     ]
    }
   ],
   "source": [
    "quantum_yields, donor_decays = simulate_decays(donor_dyes, decay_parameter, simulation_parameter, donor_quenching, directory=directory)\n",
    "with open(os.path.join(directory, file_prefix+'d0_qy.txt'), 'w') as fp:\n",
    "    fp.write('Donor position\\tQY\\n')\n",
    "    for i, dk in enumerate(donor_decays):\n",
    "        fp.write(\"%s\\t%.3f\\n\" % (dk, quantum_yields[i]))"
   ]
  },
  {
   "cell_type": "code",
   "execution_count": null,
   "metadata": {
    "collapsed": false
   },
   "outputs": [],
   "source": [
    "import pylab as p\n",
    "for k in donor_decays:\n",
    "    p.semilogy(donor_decays[k][0], donor_decays[k][1], label='%s' % k)\n",
    "p.legend()\n",
    "p.show()"
   ]
  },
  {
   "cell_type": "code",
   "execution_count": null,
   "metadata": {
    "collapsed": false
   },
   "outputs": [],
   "source": [
    "def vm_rt_to_vv_vh(t, vm, rs, g_factor=1.0, l1=0.0, l2=0.0):\n",
    "    \"\"\"Get the VV, VH decay from an VM decay given an anisotropy spectrum\n",
    "\n",
    "    :param t: time-axis\n",
    "    :param vm: magic angle decay\n",
    "    :param rt: anisotropy spectrum\n",
    "    :param g_factor: g-factor\n",
    "    :param l1:\n",
    "    :param l2:\n",
    "    :return: vv, vm\n",
    "    \"\"\"\n",
    "    rt = np.zeros_like(vm)\n",
    "    for i in range(0, len(rs), 2):\n",
    "        b = rs[i]\n",
    "        rho = rs[i+1]\n",
    "        rt += b * np.exp(-t/rho)\n",
    "    vv = vm * (1 + 2.0 * rt)\n",
    "    vh = vm * (1. - g_factor * rt)\n",
    "    vv_j = vv * (1. - l1) + vh * l1\n",
    "    vh_j = vv * l2 + vh * (1. - l2)\n",
    "    return vv_j, vh_j\n",
    "\n",
    "for dk in donor_decays:\n",
    "    t, vm = donor_decays[dk], donor_decays[dk]\n",
    "    vv, vh = vm_rt_to_vv_vh(t, vm, rs)\n",
    "    z = np.ones_like(vm)\n",
    "    np.savetxt(os.path.join(directory, file_prefix+'D0_%s_vv_vh.txt' % dk), np.vstack([vv,vh, z, z]).T, fmt=\"%i\", delimiter=\"\\t\")"
   ]
  },
  {
   "cell_type": "markdown",
   "metadata": {},
   "source": [
    "## FRET-decay"
   ]
  },
  {
   "cell_type": "code",
   "execution_count": null,
   "metadata": {
    "collapsed": false
   },
   "outputs": [],
   "source": [
    "dye_combinations = [\n",
    "    [176, 401], [301, 393], [301, 339], [13, 401], [176, 339], [305, 401], [10, 339], [289, 339], [301, 382], [13, 397],\n",
    "    [401, 176], [393, 301], [339, 301], [401, 13], [339, 176], [401, 305], [339, 10], [339, 289], [382, 301], [397, 13]\n",
    "]\n",
    "fret_decays, distance_distributions, transfer_eff = simulate_fret_decays(donor_dyes, acceptor_dyes, \n",
    "                                                           decay_parameter, \n",
    "                                                           simulation_parameter, \n",
    "                                                           donor_quenching, acceptor_quenching, fret_parameter, \n",
    "                                                           dye_combinations=dye_combinations,\n",
    "                                                            donor_decays=donor_decays,\n",
    "                                                                        directory=directory)"
   ]
  },
  {
   "cell_type": "code",
   "execution_count": null,
   "metadata": {
    "collapsed": false
   },
   "outputs": [],
   "source": [
    "\n",
    "\n",
    "def scale_acceptor(donor, acceptor, transfer_efficency):\n",
    "    s_d = sum(donor)\n",
    "    s_a = sum(acceptor)\n",
    "    scaling_factor = 1. / ((s_a / transfer_efficency - s_a) / s_d)\n",
    "    scaled_acceptor = acceptor * scaling_factor\n",
    "    return donor, scaled_acceptor\n",
    "\n",
    "def da_a0_to_ad(t, da, ac_s):\n",
    "    \"\"\"Convolves the donor decay in presence of FRET directly with the acceptor only decay to give the\n",
    "     FRET-sensitized decay ad\n",
    "    \"\"\"\n",
    "    a0 = np.zeros_like(da)\n",
    "    for i in range(len(ac_s) / 2):\n",
    "        a = ac_s[i]\n",
    "        tau = ac_s[i + 1]\n",
    "        a0 += a * np.exp(-t / tau)\n",
    "    ad = np.convolve(da, a0, mode='full')[:len(da)]\n",
    "    ds = da.sum()\n",
    "    return ad\n",
    "\n",
    "for i, dk in enumerate(dye_combinations):\n",
    "    d, a = dk\n",
    "    t, fd0 = donor_decays[d]\n",
    "    t, fda = fret_decays[i]\n",
    "    fad = da_a0_to_ad(t, fda, acs)\n",
    "    tr = transfer_eff[i]\n",
    "    fda, fad = scale_acceptor(fda, fad, tr)\n",
    "    fda_vv, fda_vh = vm_rt_to_vv_vh(t, fda, rs)\n",
    "    fad_vv, fad_vh = vm_rt_to_vv_vh(t, fad, rs)\n",
    "    np.savetxt(os.path.join(directory, file_prefix+'FRET_%sD-%sA_vv_vh.txt' % (dk[0], dk[1])), \n",
    "               np.vstack([fda_vv,fda_vh, fad_vv, fad_vh]).T,\n",
    "              fmt=\"%i\", delimiter=\"\\t\")\n"
   ]
  },
  {
   "cell_type": "code",
   "execution_count": null,
   "metadata": {
    "collapsed": false
   },
   "outputs": [],
   "source": [
    "with open(os.path.join(directory, file_prefix+'tr.txt'), 'w') as fp:\n",
    "    fp.write('Dye-pair\\ttransfer\\n')\n",
    "    for i, dk in enumerate(dye_combinations):\n",
    "        fp.write('%sD-%sA\\t%.3f\\n' % (dk[0], dk[1], transfer_eff[i]))\n"
   ]
  },
  {
   "cell_type": "code",
   "execution_count": null,
   "metadata": {
    "collapsed": false
   },
   "outputs": [],
   "source": [
    "for i, (d, a) in enumerate(dye_combinations):\n",
    "    t, fd0 = donor_decays[d]\n",
    "    p.semilogy(t, fd0)\n",
    "    t, fda = fret_decays[i]\n",
    "    p.semilogy(t, fda)\n",
    "    p.show()"
   ]
  }
 ],
 "metadata": {
  "anaconda-cloud": {},
  "kernelspec": {
   "display_name": "Python [default]",
   "language": "python",
   "name": "python2"
  },
  "language_info": {
   "codemirror_mode": {
    "name": "ipython",
    "version": 2
   },
   "file_extension": ".py",
   "mimetype": "text/x-python",
   "name": "python",
   "nbconvert_exporter": "python",
   "pygments_lexer": "ipython2",
   "version": "2.7.12"
  }
 },
 "nbformat": 4,
 "nbformat_minor": 0
}
