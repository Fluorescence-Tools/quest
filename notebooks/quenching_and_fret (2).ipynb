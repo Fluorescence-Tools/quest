{
 "cells": [
  {
   "cell_type": "code",
   "execution_count": 1,
   "metadata": {
    "collapsed": false
   },
   "outputs": [
    {
     "name": "stdout",
     "output_type": "stream",
     "text": [
      "W:\\User\\Papers\\E(t)-paper\\Software\\141216\n"
     ]
    }
   ],
   "source": [
    "cd W:\\User\\Papers\\E(t)-paper\\Software\\141216"
   ]
  },
  {
   "cell_type": "code",
   "execution_count": 2,
   "metadata": {
    "collapsed": true
   },
   "outputs": [],
   "source": [
    "%matplotlib inline"
   ]
  },
  {
   "cell_type": "code",
   "execution_count": 3,
   "metadata": {
    "collapsed": true
   },
   "outputs": [],
   "source": [
    "import mfm\n",
    "from mfm.fluorescence.fps.dynamic import Sticking, Dye, ProteinQuenching, DiffusionSimulationParameter, \\\n",
    "    DiffusionSimulation\n",
    "from mfm.fluorescence.simulation.dye_diffusion import DyeDecay, DecaySimulationParameter, FRETDecay\n",
    "from mfm.fitting.models.tcspc.tcspc import FretParameter\n",
    "from mfm.fitting.optimization import solve_nnls, maxent\n",
    "import numpy as np\n",
    "import itertools\n",
    "import pylab as p\n",
    "\n",
    "mfm.verbose = False"
   ]
  },
  {
   "cell_type": "markdown",
   "metadata": {},
   "source": [
    "# Custom functions"
   ]
  },
  {
   "cell_type": "markdown",
   "metadata": {},
   "source": [
    "First I define some custom function for batch processing of decays."
   ]
  },
  {
   "cell_type": "code",
   "execution_count": 4,
   "metadata": {
    "collapsed": true
   },
   "outputs": [],
   "source": [
    "def simulate_decays(dyes, decay_parameter, simulation_parameter, quenching_parameter, save_decays=True,\n",
    "                    directory=\"./\"):\n",
    "    dye_decays = dict()\n",
    "\n",
    "    for dye_key in dyes:\n",
    "        print \"Simulating decay: %s\" % dye_key\n",
    "        dye = dyes[dye_key]\n",
    "        diffusion_simulation = DiffusionSimulation(dye,\n",
    "                                                   quenching_parameter,\n",
    "                                                   simulation_parameter)\n",
    "        diffusion_simulation.update()\n",
    "        diffusion_simulation.save('%sD_diffusion.xyz' % dye_key, mode='xyz', skip=5)\n",
    "        av = diffusion_simulation.av\n",
    "        av.save('%sD' % dye_key)\n",
    "\n",
    "        fd0_sim_curve = DyeDecay(decay_parameter, diffusion_simulation)\n",
    "        fd0_sim_curve.update()\n",
    "        decay = fd0_sim_curve.get_histogram()\n",
    "        print \"QY: %s\" % fd0_sim_curve.quantum_yield\n",
    "        filename = \"Donor-%s.txt\" % dye_key\n",
    "        decay = np.vstack(decay)\n",
    "        if save_decays:\n",
    "            np.savetxt(directory+filename, decay.T)\n",
    "        dye_decays[dye_key] = decay\n",
    "    return dye_decays"
   ]
  },
  {
   "cell_type": "code",
   "execution_count": 5,
   "metadata": {
    "collapsed": true
   },
   "outputs": [],
   "source": [
    "def simulate_fret_decays(donors, acceptors, decay_parameter, simulation_parameter, donor_quenching, acceptor_quenching,\n",
    "                         fret_parameter, save=True, directory=\"./\"):\n",
    "    donor_keys = donors.keys()\n",
    "    acceptor_keys = acceptors.keys()\n",
    "    fret_decays = dict(\n",
    "        (donor_key, dict()) for donor_key in donor_keys\n",
    "    )\n",
    "    \n",
    "    distances = dict(\n",
    "        (donor_key, dict()) for donor_key in donor_keys\n",
    "    )\n",
    "    \n",
    "    dye_combinations = itertools.product(donor_keys, acceptor_keys)\n",
    "    for donor_key, acceptor_key in dye_combinations:\n",
    "        print \"Simulating: %sD-%sA\" % (donor_key, acceptor_key)\n",
    "        donor = donors[donor_key]\n",
    "        acceptor = acceptors[acceptor_key]\n",
    "\n",
    "        donor_diffusion_simulation = DiffusionSimulation(donor,\n",
    "                                                         donor_quenching,\n",
    "                                                         simulation_parameter)\n",
    "        donor_diffusion_simulation.update()\n",
    "\n",
    "        acceptor_diffusion_simulation = DiffusionSimulation(acceptor,\n",
    "                                                            acceptor_quenching,\n",
    "                                                            simulation_parameter)\n",
    "        acceptor_diffusion_simulation.update()\n",
    "\n",
    "        fret_sim = FRETDecay(donor_diffusion_simulation, acceptor_diffusion_simulation,\n",
    "                             fret_parameter, decay_parameter)\n",
    "        fret_sim.update()\n",
    "        decay = fret_sim.get_histogram()\n",
    "        decay = np.vstack(decay)\n",
    "        if save:\n",
    "            np.savetxt(directory+\"FRET-%sD-%sA-dRDA.txt\" % (donor_key, acceptor_key), fret_sim.dRDA.T)\n",
    "            np.savetxt(directory+\"FRET-%sD-%sA.txt\" % (donor_key, acceptor_key), decay.T)\n",
    "        fret_decays[donor_key][acceptor_key] = decay\n",
    "        distances[donor_key][acceptor_key] = np.histogram(fret_sim.dRDA, bins=np.linspace(0, 150, 150), density=True)\n",
    "    return fret_decays, distances"
   ]
  },
  {
   "cell_type": "markdown",
   "metadata": {},
   "source": [
    "# Simulation parameters"
   ]
  },
  {
   "cell_type": "markdown",
   "metadata": {},
   "source": [
    "## Structure"
   ]
  },
  {
   "cell_type": "markdown",
   "metadata": {},
   "source": [
    "There are two PDBs of hGBP1. Both PDBs are coarse grained models of hGBP1. In the coarse model the sidechains are stripped. Instead of the stripped sidechain are pseudo atom was placed at the center of mass of the side-chain. The program identifies the type of the sidechain by the name of the amino-acid. In one PDB the names of the natural amino-acids were used. In the second PDB the names of the natural quenchers (TYR, TRP, HIS, PRO, MET) were replaced by ALA.\n",
    "\n",
    "Given the PDB-files now a new structure object is generated and the simulation parameters are set."
   ]
  },
  {
   "cell_type": "code",
   "execution_count": 6,
   "metadata": {
    "collapsed": false
   },
   "outputs": [],
   "source": [
    "#pdb_file = '../sample_data/model/hgbp1/hGBP1.pdb'                # This PDB quenched the dye\n",
    "pdb_file = 'W:/User/Papers/E(t)-paper/Figures/old/Diffusion_simulation/Diffusion_simulation/PDBs/All_Ala_hGBP1/hGBP1_coarse_all_ala.pdb'  # This PDB does not quench the dye\n",
    "structure = mfm.Structure(pdb_file)"
   ]
  },
  {
   "cell_type": "markdown",
   "metadata": {},
   "source": [
    "## General Parameters"
   ]
  },
  {
   "cell_type": "code",
   "execution_count": 7,
   "metadata": {
    "collapsed": true
   },
   "outputs": [],
   "source": [
    "save_directory = \"./tmp/\""
   ]
  },
  {
   "cell_type": "markdown",
   "metadata": {},
   "source": [
    "## FRET-parameter"
   ]
  },
  {
   "cell_type": "code",
   "execution_count": 8,
   "metadata": {
    "collapsed": true
   },
   "outputs": [],
   "source": [
    "tau0 = 4.1\n",
    "forster_radius = 52.0\n",
    "kappa2 = 0.667\n",
    "\n",
    "fret_parameter = FretParameter(tau0=tau0,\n",
    "                               forster_radius=forster_radius,\n",
    "                               kappa2=kappa2)"
   ]
  },
  {
   "cell_type": "markdown",
   "metadata": {},
   "source": [
    "## Dye-definitions"
   ]
  },
  {
   "cell_type": "code",
   "execution_count": 9,
   "metadata": {
    "collapsed": true
   },
   "outputs": [],
   "source": [
    "diffusion_coefficient_donor = 30.0     # A2/ns - Stas-paper 7.0 A2/ns\n",
    "diffusion_coefficient_acceptor = diffusion_coefficient_donor * 0.5  # A2/ns - Stas-paper 1.5 A2/ns\n",
    "slow_factor = 0.1                     # Diffusion multiplier in boundary - best 0.1\n",
    "slow_radius = 8.5                     # Defines surface area - best 8.5\n",
    "directory = \"./tmp/\"                  # This directory is used for saving"
   ]
  },
  {
   "cell_type": "markdown",
   "metadata": {},
   "source": [
    "## Donor"
   ]
  },
  {
   "cell_type": "code",
   "execution_count": 10,
   "metadata": {
    "collapsed": true
   },
   "outputs": [],
   "source": [
    "#donor_labeling_positions = [18, 254, 577, 344, 481, 496, 525, 540, 577]\n",
    "donor_labeling_positions = [379]\n",
    "donor_chains = ['A']*len(donor_labeling_positions)\n",
    "\n",
    "donor_quenching = ProteinQuenching(structure,\n",
    "                                   all_atoms_quench=False,\n",
    "                                   quench_scale=1.0,\n",
    ")\n",
    "\n",
    "donor_sticking = Sticking(structure, donor_quenching,\n",
    "                          sticky_mode='surface',\n",
    "                          slow_radius=slow_radius,\n",
    "                          slow_fact=slow_factor)  # Stas-paper Dye-MD (roughly 10%)\n",
    "\n",
    "donor_dyes = dict(\n",
    "    [\n",
    "        (pos,\n",
    "         Dye(donor_sticking,\n",
    "             attachment_residue=pos,\n",
    "             attachment_chain=chain,\n",
    "             attachment_atom='CB',\n",
    "             critical_distance=3.0 + 5.5,  # 3.0 Ang von AV + 6.0 Ang only C-beta quench (so far best 5.0 + 3.0)\n",
    "             diffusion_coefficient=diffusion_coefficient_donor,  # Stas-paper (Dye-MD 30 A2/ns)\n",
    "             av_radius=3.0,\n",
    "             av_length=22.0,  # 20 + 5 = 3.5 + 21.5\n",
    "             tau0=4.2)\n",
    "        )\n",
    "        for pos, chain in zip(donor_labeling_positions, donor_chains)\n",
    "    ]\n",
    ")"
   ]
  },
  {
   "cell_type": "markdown",
   "metadata": {},
   "source": [
    "## Acceptor"
   ]
  },
  {
   "cell_type": "code",
   "execution_count": 11,
   "metadata": {
    "collapsed": true
   },
   "outputs": [],
   "source": [
    "#acceptor_labeling_positions = [18, 254, 577 , 344, 481, 496, 525, 540, 577]\n",
    "acceptor_labeling_positions = [467]\n",
    "acceptor_chains = ['A']*len(donor_labeling_positions)\n",
    "acceptor_quenching = ProteinQuenching(structure,\n",
    "                                      all_atoms_quench=False,\n",
    "                                      quench_scale=0.8)\n",
    "\n",
    "acceptor_sticking = Sticking(structure, acceptor_quenching,\n",
    "                             sticky_mode='surface',\n",
    "                             slow_radius=slow_radius,\n",
    "                             slow_fact=slow_factor)  # Stas-paper Dye-MD (roughly 10%)\n",
    "acceptor_quenching = ProteinQuenching(structure,\n",
    "                                      all_atoms_quench=False,\n",
    "                                      quench_scale=0.8)\n",
    "acceptor_dyes = dict(\n",
    "    [\n",
    "        (pos,\n",
    "         Dye(donor_sticking,\n",
    "             attachment_residue=pos,\n",
    "             attachment_chain=chain,\n",
    "             attachment_atom='CB',\n",
    "             critical_distance=0.0,      # The acceptor dye does not have to be quenched setting this to zero speeds up calulation\n",
    "             diffusion_coefficient=diffusion_coefficient_acceptor,\n",
    "             av_radius=3.5,\n",
    "             tau0=1.0)\n",
    "        )\n",
    "        for pos, chain in zip(acceptor_labeling_positions, acceptor_chains)\n",
    "    ]\n",
    ")"
   ]
  },
  {
   "cell_type": "markdown",
   "metadata": {},
   "source": [
    "# Simulation"
   ]
  },
  {
   "cell_type": "markdown",
   "metadata": {},
   "source": [
    "## Donor-decay"
   ]
  },
  {
   "cell_type": "markdown",
   "metadata": {},
   "source": [
    "Now the simulation parameters are set."
   ]
  },
  {
   "cell_type": "code",
   "execution_count": 12,
   "metadata": {
    "collapsed": true
   },
   "outputs": [],
   "source": [
    "simulation_parameter = DiffusionSimulationParameter(t_max=512000,\n",
    "                                                    t_step=0.064)\n",
    "decay_parameter = DecaySimulationParameter(decay_mode='photon',\n",
    "                                           n_photons=50.0e6,\n",
    "                                           tac_range=(0, 20),\n",
    "                                           dt_tac=0.016)\n",
    "#decay_parameter = DecaySimulationParameter(decay_mode='curve',\n",
    "#                                           n_curves=25000,\n",
    "#                                           n_tac = 4096,\n",
    "#                                           dt_tac=0.016)"
   ]
  },
  {
   "cell_type": "code",
   "execution_count": 13,
   "metadata": {
    "collapsed": false
   },
   "outputs": [
    {
     "name": "stdout",
     "output_type": "stream",
     "text": [
      "Simulating decay: 379\n",
      "QY: 0.998514509716\n"
     ]
    }
   ],
   "source": [
    "donor_decays = simulate_decays(donor_dyes, decay_parameter, simulation_parameter, donor_quenching, directory=save_directory)"
   ]
  },
  {
   "cell_type": "code",
   "execution_count": 14,
   "metadata": {
    "collapsed": false
   },
   "outputs": [
    {
     "data": {
      "image/png": "[encoded data removed]",
      "text/plain": [
       "<matplotlib.figure.Figure at 0xfdc9c18>"
      ]
     },
     "metadata": {},
     "output_type": "display_data"
    },
    {
     "name": "stdout",
     "output_type": "stream",
     "text": [
      "(1249L,)\n"
     ]
    }
   ],
   "source": [
    "for k in donor_decays:\n",
    "    p.semilogy(donor_decays[k][0], donor_decays[k][1], label='%s' % k)\n",
    "p.legend()\n",
    "p.show()\n",
    "print donor_decays[379][0].shape"
   ]
  },
  {
   "cell_type": "markdown",
   "metadata": {},
   "source": [
    "## FRET-decay"
   ]
  },
  {
   "cell_type": "code",
   "execution_count": 15,
   "metadata": {
    "collapsed": false
   },
   "outputs": [
    {
     "name": "stdout",
     "output_type": "stream",
     "text": [
      "Simulating: 379D-467A\n"
     ]
    }
   ],
   "source": [
    "fret_decays, distance_distributions = simulate_fret_decays(donor_dyes, acceptor_dyes, decay_parameter, simulation_parameter, \n",
    "                                                           donor_quenching, acceptor_quenching, fret_parameter,\n",
    "                                                           directory=save_directory)"
   ]
  },
  {
   "cell_type": "code",
   "execution_count": 16,
   "metadata": {
    "collapsed": false
   },
   "outputs": [
    {
     "data": {
      "image/png": "[encoded data removed]",
      "text/plain": [
       "<matplotlib.figure.Figure at 0x10d156d8>"
      ]
     },
     "metadata": {},
     "output_type": "display_data"
    }
   ],
   "source": [
    "for donor_key in donor_decays:\n",
    "    t, fd0 = donor_decays[donor_key]\n",
    "    p.semilogy(t, fd0)\n",
    "    fret = fret_decays[donor_key]\n",
    "    for acceptor_key in fret:\n",
    "        t, fda = fret_decays[donor_key][acceptor_key]\n",
    "        p.semilogy(t, fda)\n",
    "    p.show()"
   ]
  },
  {
   "cell_type": "markdown",
   "metadata": {},
   "source": [
    "## E(t)-decay"
   ]
  },
  {
   "cell_type": "code",
   "execution_count": 17,
   "metadata": {
    "collapsed": false
   },
   "outputs": [
    {
     "data": {
      "image/png": "[encoded data removed]",
      "text/plain": [
       "<matplotlib.figure.Figure at 0xfda4e48>"
      ]
     },
     "metadata": {},
     "output_type": "display_data"
    }
   ],
   "source": [
    "et_decays = dict(\n",
    "    (donor_key, dict(\n",
    "        (acceptor_key, (fret_decays[donor_key][acceptor_key][0], fret_decays[donor_key][acceptor_key][1]/donor_decays[donor_key][1]))\n",
    "        for acceptor_key in fret_decays[donor_key].keys()\n",
    "    )\n",
    "    ) for donor_key in donor_decays.keys()\n",
    ")\n",
    "\n",
    "for donor_key in donor_decays:\n",
    "    t, fd0 = donor_decays[donor_key]\n",
    "    fret = fret_decays[donor_key]\n",
    "    for acceptor_key in fret:\n",
    "        t, et = et_decays[donor_key][acceptor_key]\n",
    "        p.semilogy(t, et)\n",
    "    p.show()"
   ]
  },
  {
   "cell_type": "markdown",
   "metadata": {},
   "source": [
    "## Deconvolution of E(t)-decay"
   ]
  },
  {
   "cell_type": "code",
   "execution_count": 18,
   "metadata": {
    "collapsed": false
   },
   "outputs": [
    {
     "data": {
      "text/plain": [
       "<matplotlib.image.AxesImage at 0x1146c780>"
      ]
     },
     "execution_count": 18,
     "metadata": {},
     "output_type": "execute_result"
    },
    {
     "data": {
      "image/png": "[encoded data removed]",
      "text/plain": [
       "<matplotlib.figure.Figure at 0x11309be0>"
      ]
     },
     "metadata": {},
     "output_type": "display_data"
    }
   ],
   "source": [
    "t_matrix, r_DA = mfm.fluorescence.calc_transfer_matrix(t, rDA_min=10.0, rDA_max=128.0, n_steps=1024, space='lin', \n",
    "                                                       kappa2=kappa2, tau0=tau0, R0=forster_radius)\n",
    "p.imshow(t_matrix)"
   ]
  },
  {
   "cell_type": "code",
   "execution_count": 19,
   "metadata": {
    "collapsed": false
   },
   "outputs": [
    {
     "data": {
      "image/png": "[encoded data removed]",
      "text/plain": [
       "<matplotlib.figure.Figure at 0x11300198>"
      ]
     },
     "metadata": {},
     "output_type": "display_data"
    },
    {
     "data": {
      "image/png": "[encoded data removed]",
      "text/plain": [
       "<matplotlib.figure.Figure at 0xe878b70>"
      ]
     },
     "metadata": {},
     "output_type": "display_data"
    },
    {
     "name": "stdout",
     "output_type": "stream",
     "text": [
      "Recovered mean: 50.8969465522\n",
      "True mean     : 54.8252447567\n"
     ]
    }
   ],
   "source": [
    "regularization_factor = 1.0\n",
    "\n",
    "for donor_key in et_decays:\n",
    "    et_a = fret_decays[donor_key]\n",
    "    for acceptor_key in et_a:\n",
    "        t, et = et_decays[donor_key][acceptor_key]\n",
    "        \n",
    "        t_matrix, r_DA = mfm.fluorescence.calc_transfer_matrix(t, rDA_min=10.0, rDA_max=100.0, n_steps=128, space='lin', \n",
    "                                                               kappa2=kappa2, tau0=tau0, R0=forster_radius)\n",
    "        t_matrix[t_matrix < 0.0] = 0.0\n",
    "        \n",
    "        #p_rDA = maxent(t_matrix.T, et, regularization_factor)\n",
    "        p_rDA = solve_nnls(t_matrix, et, regularization_factor)\n",
    "        #p_rDA = np.linalg.lstsq(t_matrix.T, et, regularization_factor)[0]\n",
    "        hist, edges = distance_distributions[donor_key][acceptor_key]\n",
    "        \n",
    "        p.plot(r_DA, p_rDA)\n",
    "        p.plot(edges[:-1], hist)\n",
    "        p.show()\n",
    "\n",
    "        p.semilogx(forster_radius**6 / r_DA**6, p_rDA)\n",
    "        p.semilogx(forster_radius**6 / edges[:-1]**6, hist)\n",
    "        p.show()\n",
    "\n",
    "        print \"Recovered mean: %s\" % (np.dot(r_DA, p_rDA/sum(p_rDA)))\n",
    "        print \"True mean     : %s\" % (np.dot(edges[:-1], hist/sum(hist)))"
   ]
  },
  {
   "cell_type": "code",
   "execution_count": 20,
   "metadata": {
    "collapsed": false
   },
   "outputs": [],
   "source": [
    "np.savetxt(\"./tmp/r_axis.txt\", r_DA)\n",
    "np.savetxt(\"./tmp/sticking_p_30.0_15.0_rDA.txt\", p_rDA)"
   ]
  }
 ],
 "metadata": {
  "kernelspec": {
   "display_name": "Python 2",
   "language": "python",
   "name": "python2"
  },
  "language_info": {
   "codemirror_mode": {
    "name": "ipython",
    "version": 2
   },
   "file_extension": ".py",
   "mimetype": "text/x-python",
   "name": "python",
   "nbconvert_exporter": "python",
   "pygments_lexer": "ipython2",
   "version": "2.7.11"
  }
 },
 "nbformat": 4,
 "nbformat_minor": 0
}
