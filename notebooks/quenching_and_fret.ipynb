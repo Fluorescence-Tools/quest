{
 "worksheets": [
  {
   "cells": [
    {
     "cell_type": "code",
     "metadata": {},
     "outputs": [],
     "input": [
      "cd \\\\psf\\Home\\Documents\\ChiSurf\\devel"
     ],
     "language": "python"
    },
    {
     "cell_type": "code",
     "metadata": {},
     "outputs": [],
     "input": [
      "%matplotlib inline"
     ],
     "language": "python"
    },
    {
     "cell_type": "code",
     "metadata": {},
     "outputs": [],
     "input": [
      "import mfm\n",
      "from mfm.fluorescence.fps.dynamic import Sticking, Dye, ProteinQuenching, DiffusionSimulationParameter, \\\n",
      "    DiffusionSimulation\n",
      "from mfm.fluorescence.simulation.dye_diffusion import DyeDecay, DecaySimulationParameter, FRETDecay\n",
      "from mfm.fitting.models.tcspc.tcspc import FretParameter\n",
      "from mfm.fitting.optimization import solve_nnls\n",
      "import numpy as np\n",
      "import itertools\n",
      "\n",
      "mfm.verbose = False"
     ],
     "language": "python",
     "prompt_number": 76
    },
    {
     "cell_type": "heading",
     "metadata": {},
     "level": 1,
     "source": [
      "Custom functions"
     ]
    },
    {
     "cell_type": "markdown",
     "metadata": {},
     "source": [
      "First I define some custom function for batch processing of decays."
     ]
    },
    {
     "cell_type": "code",
     "metadata": {},
     "outputs": [],
     "input": [
      "def simulate_decays(dyes, decay_parameter, simulation_parameter, quenching_parameter, save_decays=True,\n",
      "                    directory=\"./\"):\n",
      "    dye_decays = dict()\n",
      "\n",
      "    for dye_key in dyes:\n",
      "        print \"Simulating decay: %s\" % dye_key\n",
      "        dye = dyes[dye_key]\n",
      "        diffusion_simulation = DiffusionSimulation(dye,\n",
      "                                                   quenching_parameter,\n",
      "                                                   simulation_parameter)\n",
      "        diffusion_simulation.update()\n",
      "        diffusion_simulation.save('%sD_diffusion.xyz' % dye_key, mode='xyz', skip=5)\n",
      "        av = diffusion_simulation.av\n",
      "        av.save('%sD' % dye_key)\n",
      "\n",
      "        fd0_sim_curve = DyeDecay(decay_parameter, diffusion_simulation)\n",
      "        fd0_sim_curve.update()\n",
      "        decay = fd0_sim_curve.get_histogram()\n",
      "        print fd0_sim_curve.quantum_yield\n",
      "        filename = \"Donor-%s.txt\" % dye_key\n",
      "        decay = np.vstack(decay)\n",
      "        if save_decays:\n",
      "            np.savetxt(directory+filename, decay.T)\n",
      "        dye_decays[dye_key] = decay\n",
      "    return dye_decays"
     ],
     "language": "python",
     "prompt_number": 77
    },
    {
     "cell_type": "code",
     "metadata": {},
     "outputs": [],
     "input": [
      "def simulate_fret_decays(donors, acceptors, decay_parameter, simulation_parameter, donor_quenching, acceptor_quenching,\n",
      "                         fret_parameter, save=True, directory=\"./\"):\n",
      "    donor_keys = donors.keys()\n",
      "    acceptor_keys = acceptors.keys()\n",
      "    fret_decays = dict(\n",
      "        (donor_key, dict()) for donor_key in donor_keys\n",
      "    )\n",
      "    \n",
      "    distances = dict(\n",
      "        (donor_key, dict()) for donor_key in donor_keys\n",
      "    )\n",
      "    \n",
      "    dye_combinations = itertools.product(donor_keys, acceptor_keys)\n",
      "    for donor_key, acceptor_key in dye_combinations:\n",
      "        print \"Simulating: %sD-%sA\" % (donor_key, acceptor_key)\n",
      "        donor = donors[donor_key]\n",
      "        acceptor = acceptors[acceptor_key]\n",
      "\n",
      "        donor_diffusion_simulation = DiffusionSimulation(donor,\n",
      "                                                         donor_quenching,\n",
      "                                                         simulation_parameter)\n",
      "        donor_diffusion_simulation.update()\n",
      "\n",
      "        acceptor_diffusion_simulation = DiffusionSimulation(acceptor,\n",
      "                                                            acceptor_quenching,\n",
      "                                                            simulation_parameter)\n",
      "        acceptor_diffusion_simulation.update()\n",
      "\n",
      "        fret_sim = FRETDecay(donor_diffusion_simulation, acceptor_diffusion_simulation,\n",
      "                             fret_parameter, decay_parameter)\n",
      "        fret_sim.update()\n",
      "        decay = fret_sim.get_histogram()\n",
      "        decay = np.vstack(decay)\n",
      "        if save:\n",
      "            np.savetxt(directory+\"FRET-%sD-%sA-dRDA.txt\" % (donor_key, acceptor_key), fret_sim.dRDA.T)\n",
      "            np.savetxt(directory+\"FRET-%sD-%sA.txt\" % (donor_key, acceptor_key), decay.T)\n",
      "        fret_decays[donor_key][acceptor_key] = decay\n",
      "        distances[donor_key][acceptor_key] = np.histogram(fret_sim.dRDA, bins=np.linspace(0, 150, 150), density=True)\n",
      "    return fret_decays, distances"
     ],
     "language": "python",
     "prompt_number": 78
    },
    {
     "cell_type": "heading",
     "metadata": {},
     "level": 1,
     "source": [
      "Simulation parameters"
     ]
    },
    {
     "cell_type": "heading",
     "metadata": {},
     "level": 2,
     "source": [
      "Structure"
     ]
    },
    {
     "cell_type": "markdown",
     "metadata": {},
     "source": [
      "There are two PDBs of hGBP1. Both PDBs are coarse grained models of hGBP1. In the coarse model the sidechains are stripped. Instead of the stripped sidechain are pseudo atom was placed at the center of mass of the side-chain. The program identifies the type of the sidechain by the name of the amino-acid. In one PDB the names of the natural amino-acids were used. In the second PDB the names of the natural quenchers (TYR, TRP, HIS, PRO, MET) were replaced by ALA.\n",
      "\n",
      "Given the PDB-files now a new structure object is generated and the simulation parameters are set."
     ]
    },
    {
     "cell_type": "code",
     "metadata": {},
     "outputs": [],
     "input": [
      "#pdb_file = '../sample_data/model/hgbp1/hGBP1.pdb'\n",
      "pdb_file = '../sample_data/model/hgbp1/hGBP1_coarse_all_ala.pdb'\n",
      "structure = mfm.Structure(pdb_file)"
     ],
     "language": "python",
     "prompt_number": 79
    },
    {
     "cell_type": "heading",
     "metadata": {},
     "level": 2,
     "source": [
      "FRET-parameter"
     ]
    },
    {
     "cell_type": "code",
     "metadata": {},
     "outputs": [],
     "input": [
      "tau0 = 4.1\n",
      "forster_radius = 52.0\n",
      "kappa2 = 0.667\n",
      "\n",
      "fret_parameter = FretParameter(tau0=tau0,\n",
      "                               forster_radius=forster_radius,\n",
      "                               kappa2=kappa2)"
     ],
     "language": "python",
     "prompt_number": 80
    },
    {
     "cell_type": "heading",
     "metadata": {},
     "level": 2,
     "source": [
      "Dye-definitions"
     ]
    },
    {
     "cell_type": "code",
     "metadata": {},
     "outputs": [],
     "input": [
      "diffusion_coefficient_donor = 1.5     # A2/ns\n",
      "diffusion_coefficient_acceptor = 1.5  # A2/ns\n",
      "directory = \"./tmp/\"                  # This directory is used for saving"
     ],
     "language": "python",
     "prompt_number": 225
    },
    {
     "cell_type": "heading",
     "metadata": {},
     "level": 2,
     "source": [
      "Donor"
     ]
    },
    {
     "cell_type": "code",
     "metadata": {},
     "outputs": [],
     "input": [
      "#donor_labeling_positions = [18, 254, 577, 344, 481, 496, 525, 540, 577]\n",
      "donor_labeling_positions = [379]\n",
      "donor_chains = ['A']*len(donor_labeling_positions)\n",
      "\n",
      "donor_quenching = ProteinQuenching(structure,\n",
      "                                   all_atoms_quench=False,\n",
      "                                   quench_scale=1.0,\n",
      ")\n",
      "\n",
      "donor_sticking = Sticking(structure, donor_quenching,\n",
      "                          sticky_mode='surface',\n",
      "                          slow_radius=8.5,\n",
      "                          slow_fact=0.1)  # Stas-paper Dye-MD (roughly 10%)\n",
      "\n",
      "donor_dyes = dict(\n",
      "    [\n",
      "        (pos,\n",
      "         Dye(donor_sticking,\n",
      "             attachment_residue=pos,\n",
      "             attachment_chain=chain,\n",
      "             attachment_atom='CB',\n",
      "             critical_distance=3.0 + 5.5,  # 3.0 Ang von AV + 6.0 Ang only C-beta quench (so far best 5.0 + 3.0)\n",
      "             diffusion_coefficient=diffusion_coefficient_donor,  # Stas-paper (Dye-MD 30 A2/ns)\n",
      "             av_radius=3.0,\n",
      "             av_length=22.0,  # 20 + 5 = 3.5 + 21.5\n",
      "             tau0=4.2)\n",
      "        )\n",
      "        for pos, chain in zip(donor_labeling_positions, donor_chains)\n",
      "    ]\n",
      ")"
     ],
     "language": "python",
     "prompt_number": 226
    },
    {
     "cell_type": "heading",
     "metadata": {},
     "level": 2,
     "source": [
      "Acceptor"
     ]
    },
    {
     "cell_type": "code",
     "metadata": {},
     "outputs": [],
     "input": [
      "#acceptor_labeling_positions = [18, 254, 577 , 344, 481, 496, 525, 540, 577]\n",
      "acceptor_labeling_positions = [467]\n",
      "acceptor_chains = ['A']*len(donor_labeling_positions)\n",
      "acceptor_quenching = ProteinQuenching(structure,\n",
      "                                      all_atoms_quench=False,\n",
      "                                      quench_scale=0.8)\n",
      "\n",
      "acceptor_sticking = Sticking(structure, acceptor_quenching,\n",
      "                             sticky_mode='surface',\n",
      "                             slow_radius=8.5,\n",
      "                             slow_fact=0.1)  # Stas-paper Dye-MD (roughly 10%)\n",
      "acceptor_quenching = ProteinQuenching(structure,\n",
      "                                      all_atoms_quench=False,\n",
      "                                      quench_scale=0.8)\n",
      "acceptor_dyes = dict(\n",
      "    [\n",
      "        (pos,\n",
      "         Dye(donor_sticking,\n",
      "             attachment_residue=pos,\n",
      "             attachment_chain=chain,\n",
      "             attachment_atom='CB',\n",
      "             critical_distance=0.0,      # The acceptor dye does not have to be quenched setting this to zero speeds up calulation\n",
      "             diffusion_coefficient=diffusion_coefficient_acceptor,\n",
      "             av_radius=3.5,\n",
      "             tau0=1.0)\n",
      "        )\n",
      "        for pos, chain in zip(acceptor_labeling_positions, acceptor_chains)\n",
      "    ]\n",
      ")"
     ],
     "language": "python",
     "prompt_number": 227
    },
    {
     "cell_type": "heading",
     "metadata": {},
     "level": 1,
     "source": [
      "Simulation"
     ]
    },
    {
     "cell_type": "heading",
     "metadata": {},
     "level": 2,
     "source": [
      "Donor-decay"
     ]
    },
    {
     "cell_type": "markdown",
     "metadata": {},
     "source": [
      "Now the simulation parameters are set."
     ]
    },
    {
     "cell_type": "code",
     "metadata": {},
     "outputs": [],
     "input": [
      "simulation_parameter = DiffusionSimulationParameter(t_max=8000,\n",
      "                                                    t_step=0.016)\n",
      "decay_parameter = DecaySimulationParameter(decay_mode='curve',\n",
      "                                           n_photons=1.0e6,\n",
      "                                           n_curves=250000,\n",
      "                                           tac_range=(0, 50),\n",
      "                                           dt_tac=0.016)"
     ],
     "language": "python",
     "prompt_number": 228
    },
    {
     "cell_type": "code",
     "metadata": {},
     "outputs": [
      {
       "output_type": "stream",
       "stream": "Simulating decay: 379\n1.0",
       "text": [
        "Simulating decay: 379\n1.0"
       ]
      },
      {
       "output_type": "stream",
       "stream": "\n",
       "text": [
        "\n"
       ]
      }
     ],
     "input": [
      "donor_decays = simulate_decays(donor_dyes, decay_parameter, simulation_parameter, donor_quenching)"
     ],
     "language": "python",
     "prompt_number": 229
    },
    {
     "cell_type": "code",
     "metadata": {},
     "outputs": [
      {
       "output_type": "display_data",
       "png": "[encoded data removed]",
       "text": [
        "<matplotlib.figure.Figure at 0x148feef0>"
       ],
       "metadata": {}
      }
     ],
     "input": [
      "import pylab as p\n",
      "for k in donor_decays:\n",
      "    p.semilogy(donor_decays[k][0], donor_decays[k][1], label='%s' % k)\n",
      "p.legend()\n",
      "p.show()"
     ],
     "language": "python",
     "prompt_number": 230
    },
    {
     "cell_type": "heading",
     "metadata": {},
     "level": 2,
     "source": [
      "FRET-decay"
     ]
    },
    {
     "cell_type": "code",
     "metadata": {},
     "outputs": [
      {
       "output_type": "stream",
       "stream": "Simulating: 379D-467A\n",
       "text": [
        "Simulating: 379D-467A\n"
       ]
      }
     ],
     "input": [
      "fret_decays, distance_distributions = simulate_fret_decays(donor_dyes, acceptor_dyes, decay_parameter, simulation_parameter, \n",
      "                                                           donor_quenching, acceptor_quenching, fret_parameter)"
     ],
     "language": "python",
     "prompt_number": 231
    },
    {
     "cell_type": "code",
     "metadata": {},
     "outputs": [
      {
       "output_type": "display_data",
       "png": "[encoded data removed]",
       "text": [
        "<matplotlib.figure.Figure at 0x13cf1730>"
       ],
       "metadata": {}
      }
     ],
     "input": [
      "for donor_key in donor_decays:\n",
      "    t, fd0 = donor_decays[donor_key]\n",
      "    p.semilogy(t, fd0)\n",
      "    fret = fret_decays[donor_key]\n",
      "    for acceptor_key in fret:\n",
      "        t, fda = fret_decays[donor_key][acceptor_key]\n",
      "        p.semilogy(t, fda)\n",
      "    p.show()"
     ],
     "language": "python",
     "prompt_number": 232
    },
    {
     "cell_type": "heading",
     "metadata": {},
     "level": 2,
     "source": [
      "E(t)-decay"
     ]
    },
    {
     "cell_type": "code",
     "metadata": {},
     "outputs": [],
     "input": [
      "et_decays = dict(\n",
      "    (donor_key, dict(\n",
      "        (acceptor_key, (fret_decays[donor_key][acceptor_key][0], fret_decays[donor_key][acceptor_key][1]/donor_decays[donor_key][1]))\n",
      "        for acceptor_key in fret_decays[donor_key].keys()\n",
      "    )\n",
      "    ) for donor_key in donor_decays.keys()\n",
      ")"
     ],
     "language": "python",
     "prompt_number": 233
    },
    {
     "cell_type": "code",
     "metadata": {},
     "outputs": [],
     "input": [
      ""
     ],
     "language": "python"
    },
    {
     "cell_type": "code",
     "metadata": {},
     "outputs": [
      {
       "output_type": "display_data",
       "png": "[encoded data removed]",
       "text": [
        "<matplotlib.figure.Figure at 0x15bdd490>"
       ],
       "metadata": {}
      }
     ],
     "input": [
      "for donor_key in donor_decays:\n",
      "    t, fd0 = donor_decays[donor_key]\n",
      "    fret = fret_decays[donor_key]\n",
      "    for acceptor_key in fret:\n",
      "        t, et = et_decays[donor_key][acceptor_key]\n",
      "        p.semilogy(t, et)\n",
      "    p.show()"
     ],
     "language": "python",
     "prompt_number": 234
    },
    {
     "cell_type": "heading",
     "metadata": {},
     "level": 2,
     "source": [
      "Deconvolution of E(t)-decay"
     ]
    },
    {
     "cell_type": "code",
     "metadata": {},
     "outputs": [
      {
       "output_type": "display_data",
       "png": "[encoded data removed]",
       "text": [
        "<matplotlib.figure.Figure at 0x15bdd750>"
       ],
       "metadata": {}
      }
     ],
     "input": [
      "t_matrix, r_DA = mfm.fluorescence.calc_transfer_matrix(t, rDA_min=10.0, rDA_max=100.0, n_steps=1024, space='lin', \n",
      "                                                       kappa2=kappa2, tau0=tau0, R0=forster_radius)\n",
      "#p.imshow(t_matrix)\n",
      "p.plot(t_matrix[500])\n",
      "p.show()"
     ],
     "language": "python",
     "prompt_number": 235
    },
    {
     "cell_type": "code",
     "metadata": {},
     "outputs": [],
     "input": [
      "et = fda / fd0\n",
      "\n",
      "regularization_factor = 0.002\n",
      "\n",
      "for donor_key in et_decays:\n",
      "    et_a = fret_decays[donor_key]\n",
      "    for acceptor_key in et_a:\n",
      "        t, et = et_decays[donor_key][acceptor_key]\n",
      "        \n",
      "        t_matrix, r_DA = mfm.fluorescence.calc_transfer_matrix(t, rDA_min=0.0, rDA_max=100.0, n_steps=4096, space='lin', \n",
      "                                                       kappa2=kappa2, tau0=tau0, R0=forster_radius)\n",
      "        t_matrix[t_matrix < 0.0] = 0.0\n",
      "        \n",
      "        #p_rDA = solve_nnls(t_matrix, et, regularization_factor)\n",
      "        p_rDA = np.linalg.lstsq(t_matrix.T, et, regularization_factor)[0]\n",
      "        hist, edges = distance_distributions[donor_key][acceptor_key]\n",
      "        \n",
      "        p.plot(r_DA, p_rDA)\n",
      "        #p.plot(edges[:-1], hist)\n",
      "        p.show()"
     ],
     "language": "python"
    },
    {
     "cell_type": "code",
     "metadata": {},
     "outputs": [],
     "input": [
      "p.plot(r_DA, p_rDA)\n",
      "p.show()"
     ],
     "language": "python"
    },
    {
     "cell_type": "code",
     "metadata": {},
     "outputs": [],
     "input": [
      "import scipy.sparse\n",
      "\n",
      "p_rDA = np.linalg.lstsq(t_matrix.T, et, regularization_factor)[0]\n",
      "p.plot(r_DA, p_rDA)\n",
      "\n",
      "p_rDA = scipy.sparse.linalg.gmres(t_matrix.T, et)\n",
      "p.plot(r_DA, p_rDA)"
     ],
     "language": "python"
    }
   ]
  }
 ],
 "cells": [],
 "metadata": {
  "name": "",
  "signature": "sha256:8a5f9637f1dc498b9d75df265ffc19d5ff769fae1fff099ef5b0d1613c8b30c1"
 },
 "nbformat": 3,
 "nbformat_minor": 0
}