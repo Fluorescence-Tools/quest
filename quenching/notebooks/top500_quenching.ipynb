{
 "worksheets": [
  {
   "cells": [
    {
     "cell_type": "code",
     "metadata": {},
     "outputs": [
      {
       "output_type": "stream",
       "stream": "\\\\psf\\Home\\Documents\\ChiSurf\\devel\n",
       "text": [
        "\\\\psf\\Home\\Documents\\ChiSurf\\devel\n"
       ]
      }
     ],
     "input": [
      "cd \\\\psf\\Home\\Documents\\ChiSurf\\devel"
     ],
     "language": "python",
     "prompt_number": 3
    },
    {
     "cell_type": "code",
     "metadata": {},
     "outputs": [],
     "input": [
      "import mfm\n",
      "from mfm.fluorescence.fps.dynamic import Sticking, Dye, ProteinQuenching, DiffusionSimulationParameter, \\\n",
      "    DiffusionSimulation\n",
      "from mfm.fluorescence.simulation.dye_diffusion import DyeDecay, DecaySimulationParameter, FRETDecay\n",
      "from mfm.fitting.models.tcspc.tcspc import FretParameter\n",
      "from mfm.fitting.optimization import solve_nnls, maxent\n",
      "import numpy as np\n",
      "import itertools\n",
      "import pylab as p\n",
      "\n",
      "mfm.verbose = False"
     ],
     "language": "python"
    },
    {
     "cell_type": "code",
     "metadata": {},
     "outputs": [],
     "input": [
      ""
     ],
     "language": "python"
    }
   ]
  }
 ],
 "cells": [],
 "metadata": {
  "name": "",
  "signature": "sha256:8a5f9637f1dc498b9d75df265ffc19d5ff769fae1fff099ef5b0d1613c8b30c1"
 },
 "nbformat": 3,
 "nbformat_minor": 0
}